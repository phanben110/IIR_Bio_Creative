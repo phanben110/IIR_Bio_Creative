{
 "cells": [
  {
   "cell_type": "code",
   "execution_count": 1,
   "metadata": {},
   "outputs": [
    {
     "name": "stderr",
     "output_type": "stream",
     "text": [
      "[nltk_data] Downloading package punkt to /Users/benphan/nltk_data...\n",
      "[nltk_data]   Package punkt is already up-to-date!\n"
     ]
    },
    {
     "name": "stdout",
     "output_type": "stream",
     "text": [
      "69987\n",
      "20733\n",
      "Data has been successfully saved to \n"
     ]
    }
   ],
   "source": [
    "import nltk\n",
    "nltk.download('punkt')\n",
    "import os\n",
    "\n",
    "list_file = os.listdir('/Users/benphan/NCKU/IIR-Lab/BioCreative/NewData')\n",
    "preprocess_datas = [] \n",
    "for file_path in list_file:\n",
    "    #output_path = os.path.join('/Users/benphan/NCKU/IIR-Lab/BioCreative/NewData_Add_Sentence', f\"{file_path[:-9]}_relation.csv\") \n",
    "    file_path = os.path.join('/Users/benphan/NCKU/IIR-Lab/BioCreative/NewData', file_path)  \n",
    "\n",
    "\n",
    "    # Step 1: Open the file\n",
    "    rawDatas = [] \n",
    "    text =  \"\"\n",
    "    with open(file_path, 'r') as file:\n",
    "        preprocess = []\n",
    "        begin = True\n",
    "        # Step 2: Read and process the contents\n",
    "        for line in file:\n",
    "            fields = line.strip().split('\\t')\n",
    "            if len(fields) == 6:\n",
    "                preprocess_datas.append(fields[3:]) \n",
    "            #  pri\n",
    "                # preprocess.append(fields) \n",
    "unique_data = []\n",
    "\n",
    "for sublist in preprocess_datas:\n",
    "    # If the sublist is not in unique_ben, add it\n",
    "    if sublist not in unique_data:\n",
    "        unique_data.append(sublist)\n",
    "\n",
    "print(len(preprocess_datas)) \n",
    "print(len(unique_data))\n",
    "with open(\"distinct_identifier_all_data.csv\", 'w') as file:\n",
    "    for data in unique_data:\n",
    "        if (len(data) == 3):\n",
    "            line = '\\t'.join(data) + '\\n'\n",
    "            file.write(line)\n",
    "\n",
    "print(f'Data has been successfully saved to ')"
   ]
  },
  {
   "cell_type": "code",
   "execution_count": 2,
   "metadata": {},
   "outputs": [
    {
     "name": "stdout",
     "output_type": "stream",
     "text": [
      "37808\n",
      "[['Hemin', 'ChemicalEntity'], ['Hematin', 'ChemicalEntity'], ['Hemin', 'ChemicalEntity'], ['Hematin', 'ChemicalEntity']]\n"
     ]
    }
   ],
   "source": [
    "import os\n",
    "file_path = \"/Users/benphan/NCKU/IIR-Lab/BioCreative/Data/evaluateWithEntities.pubtator\"\n",
    "\n",
    "# Step 1: Open the file\n",
    "data_han_predict = []\n",
    "with open(file_path, 'r') as file:\n",
    "    # Step 2: Read and process the contents\n",
    "    for line in file:\n",
    "        fields = line.strip().split('\\t')\n",
    "        if len(fields) == 5:\n",
    "            data_han_predict.append(fields[3:])\n",
    "print(len(data_han_predict))\n",
    "print(data_han_predict[1:5])"
   ]
  },
  {
   "cell_type": "code",
   "execution_count": 3,
   "metadata": {},
   "outputs": [
    {
     "name": "stdout",
     "output_type": "stream",
     "text": [
      "19416\n"
     ]
    }
   ],
   "source": [
    "error_data = [] \n",
    "count = 0 \n",
    "for han_data in data_han_predict:\n",
    "  for distict_data in unique_data:\n",
    "    if (han_data[0] == distict_data[0]) and (han_data[1] == distict_data[1]):\n",
    "      count += 1\n",
    "\n",
    "print(count)  "
   ]
  },
  {
   "cell_type": "markdown",
   "metadata": {},
   "source": []
  },
  {
   "cell_type": "code",
   "execution_count": 4,
   "metadata": {},
   "outputs": [
    {
     "name": "stdout",
     "output_type": "stream",
     "text": [
      "The number of identifier in dataset 37808\n",
      "The number of identifier aready replaced 19416 with 51.35421074904782 % \n"
     ]
    }
   ],
   "source": [
    "print(f\"The number of identifier in dataset {len(data_han_predict)}\") \n",
    "print(f\"The number of identifier aready replaced {count} with {100*count/len(data_han_predict)} % \")"
   ]
  },
  {
   "cell_type": "code",
   "execution_count": 25,
   "metadata": {},
   "outputs": [],
   "source": [
    "with open(\"/Users/benphan/NCKU/IIR-Lab/BioCreative/Data/evaluateWithEntities.pubtator\", \"r\") as file:\n",
    "    lines = file.readlines()\n",
    "\n",
    "# Iterate through the lines and replace the specified line\n",
    "counter = 0\n",
    "for i, line in enumerate(lines): \n",
    "    fields = line.strip().split('\\t')\n",
    "    if len(fields) == 5: \n",
    "        for distict_data in unique_data:\n",
    "            if (fields[3] == distict_data[0] and fields[4] == distict_data[1] ):\n",
    "                # print(lines[i]) \n",
    "                lines[i] = f\"{fields[0]}\\t{fields[1]}\\t{fields[2]}\\t{fields[3]}\\t{fields[4]}\\t{distict_data[2]}\\n\"\n",
    "                if (len(lines[i].split('\\t')) == 5):\n",
    "                    print(lines[i])\n",
    "                    print(lines[i])\n",
    "                    print(\"-----------------\")\n",
    "                counter += 1\n",
    "\n",
    "# Write the new file\n",
    "with open(\"/Users/benphan/NCKU/IIR-Lab/BioCreative/Data/evaluate_with_entities_identifier_2.pubtator\", \"w\") as file:\n",
    "    file.writelines(lines)"
   ]
  },
  {
   "cell_type": "code",
   "execution_count": 18,
   "metadata": {},
   "outputs": [],
   "source": [
    "datas = []\n",
    "raw_data = lines.copy()\n",
    "for i, line in enumerate(raw_data):\n",
    "    fields = line.strip().split('\\t')\n",
    "    if len(fields) == 5:\n",
    "        # remove the line\n",
    "        pass \n",
    "    else:\n",
    "        datas.append(line)\n",
    "# Write the new file\n",
    "with open(\"/Users/benphan/NCKU/IIR-Lab/BioCreative/Data/evaluate_with_entities_identifier_2.pubtator\", \"w\") as file:\n",
    "    file.writelines(datas)"
   ]
  },
  {
   "cell_type": "code",
   "execution_count": 23,
   "metadata": {},
   "outputs": [],
   "source": [
    "datas = []\n",
    "for i, line in enumerate(lines):\n",
    "    fields = line.strip().split('\\t')\n",
    "    if len(fields) > 6:\n",
    "        # remove the line\n",
    "        pass \n",
    "    else:\n",
    "        datas.append(line)\n",
    "# Write the new file\n",
    "with open(\"/Users/benphan/NCKU/IIR-Lab/BioCreative/Data/evaluate_with_entities_identifier_2.pubtator\", \"w\") as file:\n",
    "    file.writelines(datas)"
   ]
  },
  {
   "cell_type": "code",
   "execution_count": 15,
   "metadata": {},
   "outputs": [
    {
     "name": "stdout",
     "output_type": "stream",
     "text": [
      "17364\n"
     ]
    }
   ],
   "source": [
    "print(len(datas))"
   ]
  },
  {
   "cell_type": "code",
   "execution_count": null,
   "metadata": {},
   "outputs": [],
   "source": []
  }
 ],
 "metadata": {
  "kernelspec": {
   "display_name": "ai",
   "language": "python",
   "name": "python3"
  },
  "language_info": {
   "codemirror_mode": {
    "name": "ipython",
    "version": 3
   },
   "file_extension": ".py",
   "mimetype": "text/x-python",
   "name": "python",
   "nbconvert_exporter": "python",
   "pygments_lexer": "ipython3",
   "version": "3.7.13"
  },
  "orig_nbformat": 4
 },
 "nbformat": 4,
 "nbformat_minor": 2
}
