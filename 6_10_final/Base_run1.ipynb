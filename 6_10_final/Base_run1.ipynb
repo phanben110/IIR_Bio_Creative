{
 "cells": [
  {
   "cell_type": "code",
   "execution_count": null,
   "metadata": {},
   "outputs": [],
   "source": [
    "import pandas as pd\n",
    "\n",
    "# Read the text file into a DataFrame\n",
    "pair_relation_best = pd.read_csv('/Users/benphan/NCKU/IIR-Lab/BioCreative/6_10_final/TestSet/task1_finalPerformance/pair_relation_best.txt', sep='\\t')\n",
    "\n",
    "# Now, pair_relation_best_df contains the data from the text file\n",
    "unique_pair_relation = pd.read_csv(\"/Users/benphan/NCKU/IIR-Lab/BioCreative/6_10_final/TestSet/unique_pair_relation.txt\", sep='\\t')"
   ]
  },
  {
   "cell_type": "code",
   "execution_count": null,
   "metadata": {},
   "outputs": [],
   "source": [
    "unique_pair_relation.head()"
   ]
  },
  {
   "cell_type": "code",
   "execution_count": null,
   "metadata": {},
   "outputs": [],
   "source": [
    "pair_relation_best.head()"
   ]
  },
  {
   "cell_type": "code",
   "execution_count": null,
   "metadata": {},
   "outputs": [],
   "source": [
    "# import pandas as pd\n",
    "# import os\n",
    "\n",
    "# # file_path = \"/Users/benphan/NCKU/IIR-Lab/BioCreative/Data/Demo_Probability.pubtator\"\n",
    "# #file_path = \"/Users/benphan/NCKU/IIR-Lab/BioCreative/Data/add_pair_entities_All_no_none_novel.pubtator\"\n",
    "# dir = \"/Users/benphan/NCKU/IIR-Lab/BioCreative/6_10_final/TestSet/Subtask1_Submission\"\n",
    "# # Initialize data collection list\n",
    "# list_file = os.listdir(dir)\n",
    "\n",
    "# list_data = []\n",
    "# for file_path in list_file: \n",
    "#     file_path = os.path.join(dir, file_path)  \n",
    "# # Open and process the file\n",
    "#     with open(file_path, 'r') as file:\n",
    "#         for line in file:\n",
    "#             fields = line.strip().split('\\t')\n",
    "#             if len(fields) == 6:\n",
    "#                 list_data.append([fields[4], fields[5]])\n",
    "\n",
    "# unique_pair_relation = pd.DataFrame(list_data, columns=[\"Identity_Type\", \"Identifier\"])\n",
    "# # Assuming you have a DataFrame called unique_pair_relation\n",
    "# # Remove rows with duplicate \"Identifier\" values\n",
    "# unique_pair_relation = unique_pair_relation.drop_duplicates(subset=\"Identifier\")\n",
    "\n",
    "# # Reset the index of the resulting DataFrame\n",
    "# unique_pair_relation = unique_pair_relation.reset_index(drop=True)\n",
    "# # Save the unique_pair_relation DataFrame to a text file\n",
    "\n",
    "# split_rows = []\n",
    "# for index, row in unique_pair_relation.iterrows():\n",
    "#     identifiers = row[\"Identifier\"].split(\",\")  # Split the comma-separated identifiers\n",
    "#     for identifier in identifiers:\n",
    "#         split_rows.append([row[\"Identity_Type\"], identifier])\n",
    "\n",
    "# # Create a new DataFrame with the split rows\n",
    "# new_unique_pair_relation = pd.DataFrame(split_rows, columns=[\"Identity_Type\", \"Identifier\"])\n",
    "# new_unique_pair_relation.drop_duplicates(subset=\"Identifier\") \n",
    "# new_unique_pair_relation = new_unique_pair_relation.reset_index(drop=True)\n",
    "# new_unique_pair_relation.to_csv('/Users/benphan/NCKU/IIR-Lab/BioCreative/6_10_final/TestSet/unique_pair_relation.txt', sep='\\t', index=False)"
   ]
  },
  {
   "cell_type": "code",
   "execution_count": null,
   "metadata": {},
   "outputs": [],
   "source": []
  },
  {
   "cell_type": "code",
   "execution_count": null,
   "metadata": {},
   "outputs": [],
   "source": []
  },
  {
   "cell_type": "code",
   "execution_count": null,
   "metadata": {},
   "outputs": [],
   "source": [
    "import pandas as pd\n",
    "import os\n",
    "\n",
    "# file_path = \"/Users/benphan/NCKU/IIR-Lab/BioCreative/Data/Demo_Probability.pubtator\"\n",
    "#file_path = \"/Users/benphan/NCKU/IIR-Lab/BioCreative/Data/add_pair_entities_All_no_none_novel.pubtator\"\n",
    "dir = \"/Users/benphan/NCKU/IIR-Lab/BioCreative/6_10_final/TestSet/Subtask1_Submission\"\n",
    "# Initialize data collection list\n",
    "list_file = os.listdir(dir)\n",
    "list_file.sort()\n",
    "\n",
    "data_frame = []\n",
    "for file_path in list_file: \n",
    "    list_data = []\n",
    "    file_path = os.path.join(dir, file_path)  \n",
    "# Open and process the file\n",
    "    with open(file_path, 'r') as file:\n",
    "\n",
    "        for line in file:\n",
    "            fields = line.strip().split('\\t')\n",
    "            if len(fields) == 5:\n",
    "                list_data.append([fields[0], fields[1], fields[2], fields[3], fields[4] ])\n",
    "    data_frame.append(pd.DataFrame(list_data, columns=[\"doc_id\", \"Relation_Type\", \"Identifier_1\", \"Identifier_2\", \"Novelty\"]))"
   ]
  },
  {
   "cell_type": "code",
   "execution_count": null,
   "metadata": {},
   "outputs": [],
   "source": [
    "data_frame[0][\"doc_id\"].value_counts()"
   ]
  },
  {
   "cell_type": "code",
   "execution_count": null,
   "metadata": {},
   "outputs": [],
   "source": [
    "# # Assuming you have a DataFrame called unique_pair_relation\n",
    "\n",
    "# def gen_format_relation_type(Identifier_1, Identifier_2, Relation_Type):\n",
    "#   # Use .loc to filter the DataFrame by the specified Identifier\n",
    "#   result1 = unique_pair_relation.loc[unique_pair_relation[\"Identifier\"] == Identifier_1, \"Identity_Type\"].iloc[0]\n",
    "\n",
    "#   result2 = unique_pair_relation.loc[unique_pair_relation[\"Identifier\"] == Identifier_2, \"Identity_Type\"].iloc[0]\n",
    "\n",
    "#   output1 = result1 + \"|\" + result2 \n",
    "\n",
    "#   return output1 + \"|\" + Relation_Type + \":\"  \n",
    "# for i in range(4): \n",
    "#   data_frame[i][['New_Column_1', 'New_Column_2']] = data_frame[i].apply(lambda row: gen_format_relation_type(row['Identifier_1'], row['Identifier_2'], row['Relation_Type']), axis=1, result_type='expand')\n",
    "\n",
    "# for i in range(4):\n",
    "#   data_frame[i].to_csv(f'/Users/benphan/NCKU/IIR-Lab/BioCreative/6_10_final/TestSet/Subtask1_add_2_column/Updated_Subtask1_Run{i+1}_Add_2_Column.txt', sep='\\t', index=False)"
   ]
  },
  {
   "cell_type": "code",
   "execution_count": 199,
   "metadata": {},
   "outputs": [],
   "source": [
    "# Assuming you have a DataFrame called unique_pair_relation\n",
    "def gen_format_relation_type(Identifier_1, Identifier_2, Relation_Type):\n",
    "    # Use .loc to filter the DataFrame by the specified Identifier\n",
    "    result1 = unique_pair_relation.loc[unique_pair_relation[\"Identifier\"] == Identifier_1, \"Identity_Type\"].iloc[0]\n",
    "    result2 = unique_pair_relation.loc[unique_pair_relation[\"Identifier\"] == Identifier_2, \"Identity_Type\"].iloc[0]\n",
    "\n",
    "    # Define the mappings\n",
    "    mappings = {\n",
    "        \"DiseaseOrPhenotypicFeature|ChemicalEntity\": \"ChemicalEntity|DiseaseOrPhenotypicFeature\",\n",
    "        \"GeneOrGeneProduct|ChemicalEntity\": \"ChemicalEntity|GeneOrGeneProduct\",\n",
    "        \"SequenceVariant|ChemicalEntity\": \"ChemicalEntity|SequenceVariant\",\n",
    "        \"GeneOrGeneProduct|DiseaseOrPhenotypicFeature\": \"DiseaseOrPhenotypicFeature|GeneOrGeneProduct\",\n",
    "        \"SequenceVariant|DiseaseOrPhenotypicFeature\": \"DiseaseOrPhenotypicFeature|SequenceVariant\"\n",
    "    }\n",
    "\n",
    "    # Check if the combination needs to be mapped\n",
    "    combination = f\"{result1}|{result2}\"\n",
    "    if combination in mappings:\n",
    "        output1 = mappings[combination]\n",
    "    else:\n",
    "        output1 = combination\n",
    "\n",
    "    return output1 + \"|\" + Relation_Type + \":\"\n",
    "\n",
    "for i in range(4): \n",
    "  data_frame[i][['New_Column_1']] = data_frame[i].apply(lambda row: gen_format_relation_type(row['Identifier_1'], row['Identifier_2'], row['Relation_Type']), axis=1, result_type='expand')\n",
    "\n",
    "for i in range(4):\n",
    "  data_frame[i].to_csv(f'/Users/benphan/NCKU/IIR-Lab/BioCreative/6_10_final/TestSet/Subtask1_add_2_column/Updated_Subtask1_Run{i+1}_Add_2_Column.txt', sep='\\t', index=False)"
   ]
  },
  {
   "cell_type": "markdown",
   "metadata": {},
   "source": []
  },
  {
   "cell_type": "code",
   "execution_count": null,
   "metadata": {},
   "outputs": [],
   "source": [
    "input_dir = \"/Users/benphan/NCKU/IIR-Lab/BioCreative/6_10_final/TestSet/Subtask1_add_2_column\"\n",
    "list_file_data = os.listdir(input_dir) \n",
    "list_file_data.sort()\n",
    "for i in range(4):\n",
    "  data_frame[i] = pd.read_csv(os.path.join(input_dir, list_file_data[i]), sep='\\t')"
   ]
  },
  {
   "cell_type": "code",
   "execution_count": null,
   "metadata": {},
   "outputs": [],
   "source": [
    "data_frame[0].head()"
   ]
  },
  {
   "cell_type": "code",
   "execution_count": 194,
   "metadata": {},
   "outputs": [
    {
     "data": {
      "text/plain": [
       "77"
      ]
     },
     "execution_count": 194,
     "metadata": {},
     "output_type": "execute_result"
    }
   ],
   "source": [
    "len(data_frame[0][\"New_Column_1\"].unique())"
   ]
  },
  {
   "cell_type": "code",
   "execution_count": 198,
   "metadata": {},
   "outputs": [
    {
     "ename": "SyntaxError",
     "evalue": "can't assign to operator (2624177626.py, line 1)",
     "output_type": "error",
     "traceback": [
      "\u001b[0;36m  File \u001b[0;32m\"/var/folders/jc/9krvg9jj60x85qvg498y04sh0000gn/T/ipykernel_42106/2624177626.py\"\u001b[0;36m, line \u001b[0;32m1\u001b[0m\n\u001b[0;31m    DiseaseOrPhenotypicFeature|ChemicalEntity = ChemicalEntity|DiseaseOrPhenotypicFeature\u001b[0m\n\u001b[0m                                                                                           ^\u001b[0m\n\u001b[0;31mSyntaxError\u001b[0m\u001b[0;31m:\u001b[0m can't assign to operator\n"
     ]
    }
   ],
   "source": [
    "DiseaseOrPhenotypicFeature|ChemicalEntity = ChemicalEntity|DiseaseOrPhenotypicFeature  \n",
    "GeneOrGeneProduct|ChemicalEntity = ChemicalEntity|GeneOrGeneProduct\n",
    "SequenceVariant|ChemicalEntity = ChemicalEntity|SequenceVariant\n",
    "GeneOrGeneProduct|DiseaseOrPhenotypicFeature = DiseaseOrPhenotypicFeature|GeneOrGeneProduct\n",
    "SequenceVariant|DiseaseOrPhenotypicFeature = DiseaseOrPhenotypicFeature|SequenceVariant\n",
    "\n",
    "\n"
   ]
  },
  {
   "cell_type": "code",
   "execution_count": null,
   "metadata": {},
   "outputs": [],
   "source": []
  },
  {
   "cell_type": "code",
   "execution_count": null,
   "metadata": {},
   "outputs": [],
   "source": []
  }
 ],
 "metadata": {
  "kernelspec": {
   "display_name": "ai",
   "language": "python",
   "name": "python3"
  },
  "language_info": {
   "codemirror_mode": {
    "name": "ipython",
    "version": 3
   },
   "file_extension": ".py",
   "mimetype": "text/x-python",
   "name": "python",
   "nbconvert_exporter": "python",
   "pygments_lexer": "ipython3",
   "version": "3.7.13"
  },
  "orig_nbformat": 4
 },
 "nbformat": 4,
 "nbformat_minor": 2
}
